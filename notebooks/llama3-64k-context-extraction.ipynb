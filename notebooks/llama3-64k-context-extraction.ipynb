{
 "cells": [
  {
   "cell_type": "code",
   "execution_count": 60,
   "metadata": {},
   "outputs": [
    {
     "name": "stdout",
     "output_type": "stream",
     "text": [
      "10930.13s - pydevd: Sending message related to process being replaced timed-out after 5 seconds\n",
      "Collecting anthropic\n",
      "  Downloading anthropic-0.25.6-py3-none-any.whl.metadata (18 kB)\n",
      "Requirement already satisfied: anyio<5,>=3.5.0 in /Users/calebpeffer/Documents/GitHub/docs/.conda/lib/python3.11/site-packages (from anthropic) (4.3.0)\n",
      "Requirement already satisfied: distro<2,>=1.7.0 in /Users/calebpeffer/Documents/GitHub/docs/.conda/lib/python3.11/site-packages (from anthropic) (1.9.0)\n",
      "Requirement already satisfied: httpx<1,>=0.23.0 in /Users/calebpeffer/Documents/GitHub/docs/.conda/lib/python3.11/site-packages (from anthropic) (0.27.0)\n",
      "Requirement already satisfied: pydantic<3,>=1.9.0 in /Users/calebpeffer/Documents/GitHub/docs/.conda/lib/python3.11/site-packages (from anthropic) (2.7.0)\n",
      "Requirement already satisfied: sniffio in /Users/calebpeffer/Documents/GitHub/docs/.conda/lib/python3.11/site-packages (from anthropic) (1.3.1)\n",
      "Requirement already satisfied: tokenizers>=0.13.0 in /Users/calebpeffer/Documents/GitHub/docs/.conda/lib/python3.11/site-packages (from anthropic) (0.19.1)\n",
      "Requirement already satisfied: typing-extensions<5,>=4.7 in /Users/calebpeffer/Documents/GitHub/docs/.conda/lib/python3.11/site-packages (from anthropic) (4.11.0)\n",
      "Requirement already satisfied: idna>=2.8 in /Users/calebpeffer/Documents/GitHub/docs/.conda/lib/python3.11/site-packages (from anyio<5,>=3.5.0->anthropic) (3.7)\n",
      "Requirement already satisfied: certifi in /Users/calebpeffer/Documents/GitHub/docs/.conda/lib/python3.11/site-packages (from httpx<1,>=0.23.0->anthropic) (2024.2.2)\n",
      "Requirement already satisfied: httpcore==1.* in /Users/calebpeffer/Documents/GitHub/docs/.conda/lib/python3.11/site-packages (from httpx<1,>=0.23.0->anthropic) (1.0.5)\n",
      "Requirement already satisfied: h11<0.15,>=0.13 in /Users/calebpeffer/Documents/GitHub/docs/.conda/lib/python3.11/site-packages (from httpcore==1.*->httpx<1,>=0.23.0->anthropic) (0.14.0)\n",
      "Requirement already satisfied: annotated-types>=0.4.0 in /Users/calebpeffer/Documents/GitHub/docs/.conda/lib/python3.11/site-packages (from pydantic<3,>=1.9.0->anthropic) (0.6.0)\n",
      "Requirement already satisfied: pydantic-core==2.18.1 in /Users/calebpeffer/Documents/GitHub/docs/.conda/lib/python3.11/site-packages (from pydantic<3,>=1.9.0->anthropic) (2.18.1)\n",
      "Requirement already satisfied: huggingface-hub<1.0,>=0.16.4 in /Users/calebpeffer/Documents/GitHub/docs/.conda/lib/python3.11/site-packages (from tokenizers>=0.13.0->anthropic) (0.22.2)\n",
      "Requirement already satisfied: filelock in /Users/calebpeffer/Documents/GitHub/docs/.conda/lib/python3.11/site-packages (from huggingface-hub<1.0,>=0.16.4->tokenizers>=0.13.0->anthropic) (3.13.4)\n",
      "Requirement already satisfied: fsspec>=2023.5.0 in /Users/calebpeffer/Documents/GitHub/docs/.conda/lib/python3.11/site-packages (from huggingface-hub<1.0,>=0.16.4->tokenizers>=0.13.0->anthropic) (2024.3.1)\n",
      "Requirement already satisfied: packaging>=20.9 in /Users/calebpeffer/Documents/GitHub/docs/.conda/lib/python3.11/site-packages (from huggingface-hub<1.0,>=0.16.4->tokenizers>=0.13.0->anthropic) (23.2)\n",
      "Requirement already satisfied: pyyaml>=5.1 in /Users/calebpeffer/Documents/GitHub/docs/.conda/lib/python3.11/site-packages (from huggingface-hub<1.0,>=0.16.4->tokenizers>=0.13.0->anthropic) (6.0.1)\n",
      "Requirement already satisfied: requests in /Users/calebpeffer/Documents/GitHub/docs/.conda/lib/python3.11/site-packages (from huggingface-hub<1.0,>=0.16.4->tokenizers>=0.13.0->anthropic) (2.31.0)\n",
      "Requirement already satisfied: tqdm>=4.42.1 in /Users/calebpeffer/Documents/GitHub/docs/.conda/lib/python3.11/site-packages (from huggingface-hub<1.0,>=0.16.4->tokenizers>=0.13.0->anthropic) (4.66.2)\n",
      "Requirement already satisfied: charset-normalizer<4,>=2 in /Users/calebpeffer/Documents/GitHub/docs/.conda/lib/python3.11/site-packages (from requests->huggingface-hub<1.0,>=0.16.4->tokenizers>=0.13.0->anthropic) (3.3.2)\n",
      "Requirement already satisfied: urllib3<3,>=1.21.1 in /Users/calebpeffer/Documents/GitHub/docs/.conda/lib/python3.11/site-packages (from requests->huggingface-hub<1.0,>=0.16.4->tokenizers>=0.13.0->anthropic) (2.2.1)\n",
      "Downloading anthropic-0.25.6-py3-none-any.whl (870 kB)\n",
      "\u001b[2K   \u001b[90m━━━━━━━━━━━━━━━━━━━━━━━━━━━━━━━━━━━━━━━━\u001b[0m \u001b[32m870.7/870.7 kB\u001b[0m \u001b[31m5.3 MB/s\u001b[0m eta \u001b[36m0:00:00\u001b[0ma \u001b[36m0:00:01\u001b[0m\n",
      "\u001b[?25hInstalling collected packages: anthropic\n",
      "Successfully installed anthropic-0.25.6\n",
      "Note: you may need to restart the kernel to use updated packages.\n"
     ]
    }
   ],
   "source": [
    "# %pip install cohere\n",
    "%pip install anthropic"
   ]
  },
  {
   "cell_type": "code",
   "execution_count": 61,
   "metadata": {},
   "outputs": [],
   "source": [
    "top_100_stocks = [{'Symbol': 'MSFT', 'Name': 'Microsoft Corporation Common Stock', 'Market Cap': 3040608809269.0}, {'Symbol': 'AAPL', 'Name': 'Apple Inc. Common Stock', 'Market Cap': 2624965351190.0}, {'Symbol': 'NVDA', 'Name': 'NVIDIA Corporation Common Stock', 'Market Cap': 2187300000000.0}, {'Symbol': 'GOOG', 'Name': 'Alphabet Inc. Class C Capital Stock', 'Market Cap': 2156006530000.0}, {'Symbol': 'GOOGL', 'Name': 'Alphabet Inc. Class A Common Stock', 'Market Cap': 2135429915000.0}, {'Symbol': 'AMZN', 'Name': 'Amazon.com Inc. Common Stock', 'Market Cap': 1866768228712.0}, {'Symbol': 'META', 'Name': 'Meta Platforms Inc. Class A Common Stock', 'Market Cap': 1127243177085.0}, {'Symbol': 'BRK/A', 'Name': 'Berkshire Hathaway Inc.', 'Market Cap': 895026830765.0}, {'Symbol': 'BRK/B', 'Name': 'Berkshire Hathaway Inc.', 'Market Cap': 889419271434.0}, {'Symbol': 'TSM', 'Name': 'Taiwan Semiconductor Manufacturing Company Ltd.', 'Market Cap': 715674332465.0}, {'Symbol': 'LLY', 'Name': 'Eli Lilly and Company Common Stock', 'Market Cap': 697487219280.0}, {'Symbol': 'AVGO', 'Name': 'Broadcom Inc. Common Stock', 'Market Cap': 623157903182.0}, {'Symbol': 'NVO', 'Name': 'Novo Nordisk A/S Common Stock', 'Market Cap': 566613875625.0}, {'Symbol': 'JPM', 'Name': 'JP Morgan Chase & Co. Common Stock', 'Market Cap': 559254082200.0}, {'Symbol': 'TSLA', 'Name': 'Tesla Inc. Common Stock', 'Market Cap': 532082934634.0}, {'Symbol': 'V', 'Name': 'Visa Inc.', 'Market Cap': 504091427138.0}, {'Symbol': 'WMT', 'Name': 'Walmart Inc. Common Stock', 'Market Cap': 485537722852.0}, {'Symbol': 'XOM', 'Name': 'Exxon Mobil Corporation Common Stock', 'Market Cap': 471241029121.0}, {'Symbol': 'UNH', 'Name': 'UnitedHealth Group Incorporated Common Stock (DE)', 'Market Cap': 457150247289.0}, {'Symbol': 'MA', 'Name': 'Mastercard Incorporated Common Stock', 'Market Cap': 431105487751.0}, {'Symbol': 'PG', 'Name': 'Procter & Gamble Company (The) Common Stock', 'Market Cap': 380784226398.0}, {'Symbol': 'ASML', 'Name': 'ASML Holding N.V. New York Registry Shares', 'Market Cap': 362746629414.0}, {'Symbol': 'JNJ', 'Name': 'Johnson & Johnson Common Stock', 'Market Cap': 352624252041.0}, {'Symbol': 'MRK', 'Name': 'Merck & Company Inc. Common Stock (new)', 'Market Cap': 332637446148.0}, {'Symbol': 'HD', 'Name': 'Home Depot Inc. (The) Common Stock', 'Market Cap': 331375854176.0}, {'Symbol': 'COST', 'Name': 'Costco Wholesale Corporation Common Stock', 'Market Cap': 323589414746.0}, {'Symbol': 'ORCL', 'Name': 'Oracle Corporation Common Stock', 'Market Cap': 323403899810.0}, {'Symbol': 'TM', 'Name': 'Toyota Motor Corporation Common Stock', 'Market Cap': 312354095912.0}, {'Symbol': 'CVX', 'Name': 'Chevron Corporation Common Stock', 'Market Cap': 307898081345.0}, {'Symbol': 'BAC', 'Name': 'Bank of America Corporation Common Stock', 'Market Cap': 298727990431.0}, {'Symbol': 'ABBV', 'Name': 'AbbVie Inc. Common Stock', 'Market Cap': 281505194490.0}, {'Symbol': 'KO', 'Name': 'Coca-Cola Company (The) Common Stock', 'Market Cap': 266617602587.0}, {'Symbol': 'CRM', 'Name': 'Salesforce Inc. Common Stock', 'Market Cap': 265838200000.0}, {'Symbol': 'AMD', 'Name': 'Advanced Micro Devices Inc. Common Stock', 'Market Cap': 254145334855.0}, {'Symbol': 'PEP', 'Name': 'PepsiCo Inc. Common Stock', 'Market Cap': 242141054657.0}, {'Symbol': 'NFLX', 'Name': 'Netflix Inc. Common Stock', 'Market Cap': 241637760804.0}, {'Symbol': 'SHEL', 'Name': 'Shell PLC American Depositary Shares (each representing two (2) Ordinary Shares) ', 'Market Cap': 237911823342.0}, {'Symbol': 'AZN', 'Name': 'AstraZeneca PLC American Depositary Shares', 'Market Cap': 233381004836.0}, {'Symbol': 'TMO', 'Name': 'Thermo Fisher Scientific Inc Common Stock', 'Market Cap': 218394694936.0}, {'Symbol': 'SAP', 'Name': 'SAP  SE ADS', 'Market Cap': 217524806876.0}, {'Symbol': 'WFC', 'Name': 'Wells Fargo & Company Common Stock', 'Market Cap': 215684067952.0}, {'Symbol': 'FMX', 'Name': 'Fomento Economico Mexicano S.A.B. de C.V. Common Stock', 'Market Cap': 214693201920.0}, {'Symbol': 'ADBE', 'Name': 'Adobe Inc. Common Stock', 'Market Cap': 214336640000.0}, {'Symbol': 'LIN', 'Name': 'Linde plc Ordinary Shares', 'Market Cap': 213776611686.0}, {'Symbol': 'DIS', 'Name': 'Walt Disney Company (The) Common Stock', 'Market Cap': 205918768901.0}, {'Symbol': 'NVS', 'Name': 'Novartis AG Common Stock', 'Market Cap': 199814542301.0}, {'Symbol': 'MCD', 'Name': \"McDonald's Corporation Common Stock\", 'Market Cap': 197917923118.0}, {'Symbol': 'TMUS', 'Name': 'T-Mobile US Inc. Common Stock', 'Market Cap': 194491989515.0}, {'Symbol': 'CSCO', 'Name': 'Cisco Systems Inc. Common Stock (DE)', 'Market Cap': 194185650039.0}, {'Symbol': 'ACN', 'Name': 'Accenture plc Class A Ordinary Shares (Ireland)', 'Market Cap': 193833525102.0}, {'Symbol': 'BABA', 'Name': 'Alibaba Group Holding Limited American Depositary Shares each representing eight Ordinary share', 'Market Cap': 193829751007.0}, {'Symbol': 'ABT', 'Name': 'Abbott Laboratories Common Stock', 'Market Cap': 187000810826.0}, {'Symbol': 'QCOM', 'Name': 'QUALCOMM Incorporated Common Stock', 'Market Cap': 185356440000.0}, {'Symbol': 'DHR', 'Name': 'Danaher Corporation Common Stock', 'Market Cap': 183260663974.0}, {'Symbol': 'INTU', 'Name': 'Intuit Inc. Common Stock', 'Market Cap': 178559407040.0}, {'Symbol': 'TTE', 'Name': 'TotalEnergies SE', 'Market Cap': 178320963659.0}, {'Symbol': 'GE', 'Name': 'GE Aerospace Common Stock', 'Market Cap': 178278589320.0}, {'Symbol': 'PDD', 'Name': 'PDD Holdings Inc. American Depositary Shares', 'Market Cap': 176584667690.0}, {'Symbol': 'CAT', 'Name': 'Caterpillar Inc. Common Stock', 'Market Cap': 171880662217.0}, {'Symbol': 'TBC', 'Name': 'AT&T Inc. 5.625% Global Notes due 2067', 'Market Cap': 171237846537.0}, {'Symbol': 'AXP', 'Name': 'American Express Company Common Stock', 'Market Cap': 169805871722.0}, {'Symbol': 'AMAT', 'Name': 'Applied Materials Inc. Common Stock', 'Market Cap': 169303645259.0}, {'Symbol': 'VZ', 'Name': 'Verizon Communications Inc. Common Stock', 'Market Cap': 167330043231.0}, {'Symbol': 'LYG', 'Name': 'Lloyds Banking Group Plc American Depositary Shares', 'Market Cap': 166233525106.0}, {'Symbol': 'TBB', 'Name': 'AT&T Inc. 5.350% Global Notes due 2066', 'Market Cap': 162296856221.0}, {'Symbol': 'TXN', 'Name': 'Texas Instruments Incorporated Common Stock', 'Market Cap': 161835020041.0}, {'Symbol': 'HSBC', 'Name': 'HSBC Holdings plc. Common Stock', 'Market Cap': 160033354395.0}, {'Symbol': 'COP', 'Name': 'ConocoPhillips Common Stock', 'Market Cap': 153615404693.0}, {'Symbol': 'CMCSA', 'Name': 'Comcast Corporation Class A Common Stock', 'Market Cap': 153512683338.0}, {'Symbol': 'IBM', 'Name': 'International Business Machines Corporation Common Stock', 'Market Cap': 152587596225.0}, {'Symbol': 'MS', 'Name': 'Morgan Stanley Common Stock', 'Market Cap': 152178067719.0}, {'Symbol': 'UNP', 'Name': 'Union Pacific Corporation Common Stock', 'Market Cap': 148304086464.0}, {'Symbol': 'NOW', 'Name': 'ServiceNow Inc. Common Stock', 'Market Cap': 148155550000.0}, {'Symbol': 'PM', 'Name': 'Philip Morris International Inc Common Stock', 'Market Cap': 147770581185.0}, {'Symbol': 'HDB', 'Name': 'HDFC Bank Limited Common Stock', 'Market Cap': 146429849473.0}, {'Symbol': 'AMGN', 'Name': 'Amgen Inc. Common Stock', 'Market Cap': 145234022171.0}, {'Symbol': 'PFE', 'Name': 'Pfizer Inc. Common Stock', 'Market Cap': 144049317622.0}, {'Symbol': 'UBER', 'Name': 'Uber Technologies Inc. Common Stock', 'Market Cap': 143828592411.0}, {'Symbol': 'BHP', 'Name': 'BHP Group Limited American Depositary Shares (Each representing two Ordinary Shares)', 'Market Cap': 143198082567.0}, {'Symbol': 'NKE', 'Name': 'Nike Inc. Common Stock', 'Market Cap': 141959874811.0}, {'Symbol': 'GS', 'Name': 'Goldman Sachs Group Inc. (The) Common Stock', 'Market Cap': 139357133853.0}, {'Symbol': 'RY', 'Name': 'Royal Bank Of Canada Common Stock', 'Market Cap': 139098100646.0}, {'Symbol': 'SCHW', 'Name': 'Charles Schwab Corporation (The) Common Stock', 'Market Cap': 136882407421.0}, {'Symbol': 'NEE', 'Name': 'NextEra Energy Inc. Common Stock', 'Market Cap': 136153872221.0}, {'Symbol': 'RTX', 'Name': 'RTX Corporation Common Stock', 'Market Cap': 134893807289.0}, {'Symbol': 'INTC', 'Name': 'Intel Corporation Common Stock', 'Market Cap': 134666028000.0}, {'Symbol': 'ISRG', 'Name': 'Intuitive Surgical Inc. Common Stock', 'Market Cap': 133677983137.0}, {'Symbol': 'LOW', 'Name': \"Lowe's Companies Inc. Common Stock\", 'Market Cap': 131802640375.0}, {'Symbol': 'SPGI', 'Name': 'S&P Global Inc. Common Stock', 'Market Cap': 131180724000.0}, {'Symbol': 'ETN', 'Name': 'Eaton Corporation PLC Ordinary Shares', 'Market Cap': 129669710000.0}, {'Symbol': 'UL', 'Name': 'Unilever PLC Common Stock', 'Market Cap': 128150973988.0}, {'Symbol': 'SYK', 'Name': 'Stryker Corporation Common Stock', 'Market Cap': 127844768903.0}, {'Symbol': 'MU', 'Name': 'Micron Technology Inc. Common Stock', 'Market Cap': 127136932709.0}, {'Symbol': 'UPS', 'Name': 'United Parcel Service Inc. Common Stock', 'Market Cap': 126653085681.0}, {'Symbol': 'HON', 'Name': 'Honeywell International Inc. Common Stock', 'Market Cap': 125884198570.0}, {'Symbol': 'ELV', 'Name': 'Elevance Health Inc. Common Stock', 'Market Cap': 125103565270.0}, {'Symbol': 'SNY', 'Name': 'Sanofi ADS', 'Market Cap': 124734572943.0}, {'Symbol': 'PGR', 'Name': 'Progressive Corporation (The) Common Stock', 'Market Cap': 122330451906.0}, {'Symbol': 'MUFG', 'Name': 'Mitsubishi UFJ Financial Group Inc. Common Stock', 'Market Cap': 122265481446.0}, {'Symbol': 'LRCX', 'Name': 'Lam Research Corporation Common Stock', 'Market Cap': 121679054154.0}]"
   ]
  },
  {
   "cell_type": "code",
   "execution_count": 86,
   "metadata": {},
   "outputs": [],
   "source": [
    "import random\n",
    "import requests\n",
    "\n",
    "# Select 5 random stocks from the top 100 stocks list\n",
    "selected_stocks = random.sample(top_100_stocks, 30)\n",
    "\n",
    "# Function to fetch the latest 4 articles for a given stock symbol\n",
    "def fetch_articles(stock_symbol):\n",
    "    url = \"https://api.firecrawl.dev/v0/search\"\n",
    "    query = f\"latest financial news about {stock_symbol}\"\n",
    "    payload = {\n",
    "        \"query\": query,\n",
    "        \"pageOptions\": {\n",
    "            \"onlyMainContent\": True,\n",
    "            \"fetchPageContent\": True\n",
    "        },\n",
    "        \"searchOptions\": {\"limit\": 4}\n",
    "    }\n",
    "    headers = {\n",
    "        \"Authorization\": \"\",\n",
    "        \"Content-Type\": \"application/json\"\n",
    "    }\n",
    "    \n",
    "    response = requests.request(\"POST\", url, json=payload, headers=headers)\n",
    "    return response.json()\n",
    "\n"
   ]
  },
  {
   "cell_type": "code",
   "execution_count": 87,
   "metadata": {},
   "outputs": [
    {
     "name": "stdout",
     "output_type": "stream",
     "text": [
      "Articles for Lowe's Companies Inc. Common Stock (LOW):\n",
      "Articles for PDD Holdings Inc. American Depositary Shares (PDD):\n",
      "Articles for Microsoft Corporation Common Stock (MSFT):\n",
      "Articles for United Parcel Service Inc. Common Stock (UPS):\n",
      "Articles for AstraZeneca PLC American Depositary Shares (AZN):\n",
      "Articles for GE Aerospace Common Stock (GE):\n",
      "Articles for AbbVie Inc. Common Stock (ABBV):\n",
      "Articles for McDonald's Corporation Common Stock (MCD):\n",
      "Articles for NextEra Energy Inc. Common Stock (NEE):\n",
      "Articles for Meta Platforms Inc. Class A Common Stock (META):\n",
      "Failed to fetch articles for Toyota Motor Corporation Common Stock (TM): 'data'\n",
      "Articles for Progressive Corporation (The) Common Stock (PGR):\n",
      "Articles for Alphabet Inc. Class C Capital Stock (GOOG):\n",
      "Articles for Eaton Corporation PLC Ordinary Shares (ETN):\n",
      "Articles for PepsiCo Inc. Common Stock (PEP):\n",
      "Articles for Honeywell International Inc. Common Stock (HON):\n",
      "Articles for HSBC Holdings plc. Common Stock (HSBC):\n",
      "Articles for AT&T Inc. 5.625% Global Notes due 2067 (TBC):\n",
      "Articles for Intuitive Surgical Inc. Common Stock (ISRG):\n",
      "Articles for Fomento Economico Mexicano S.A.B. de C.V. Common Stock (FMX):\n",
      "Articles for Union Pacific Corporation Common Stock (UNP):\n",
      "Articles for Nike Inc. Common Stock (NKE):\n",
      "Articles for Berkshire Hathaway Inc. (BRK/A):\n",
      "Articles for JP Morgan Chase & Co. Common Stock (JPM):\n",
      "Articles for Cisco Systems Inc. Common Stock (DE) (CSCO):\n",
      "Articles for ServiceNow Inc. Common Stock (NOW):\n",
      "Articles for ConocoPhillips Common Stock (COP):\n",
      "Articles for SAP  SE ADS (SAP):\n",
      "Articles for TotalEnergies SE (TTE):\n",
      "Articles for Wells Fargo & Company Common Stock (WFC):\n"
     ]
    }
   ],
   "source": [
    "# Iterate over selected stocks and fetch articles for each, saving each stock and its articles in a new object\n",
    "stock_articles = []  # List to hold all stocks with their corresponding articles\n",
    "\n",
    "for stock in selected_stocks:\n",
    "    try:\n",
    "        articles_response = fetch_articles(stock['Symbol'])\n",
    "        articles_data = articles_response['data']  # Extract the 'data' list from the response\n",
    "        # Concatenate article titles and markdown content\n",
    "        concatenated_articles = \" \".join([f\"{article['metadata']['title']} {article['markdown']}\" for article in articles_data])\n",
    "        stock_info = {\n",
    "            'stock_name': stock['Name'],\n",
    "            'stock_symbol': stock['Symbol'],\n",
    "            'articles': articles_data,\n",
    "            'articles_joined': concatenated_articles\n",
    "        }\n",
    "        stock_articles.append(stock_info)\n",
    "        print(f\"Articles for {stock['Name']} ({stock['Symbol']}):\")\n",
    "    except Exception as e:\n",
    "        print(f\"Failed to fetch articles for {stock['Name']} ({stock['Symbol']}): {e}\")\n"
   ]
  },
  {
   "cell_type": "code",
   "execution_count": 83,
   "metadata": {},
   "outputs": [
    {
     "ename": "KeyError",
     "evalue": "'Name'",
     "output_type": "error",
     "traceback": [
      "\u001b[0;31m---------------------------------------------------------------------------\u001b[0m",
      "\u001b[0;31mKeyError\u001b[0m                                  Traceback (most recent call last)",
      "Cell \u001b[0;32mIn[83], line 3\u001b[0m\n\u001b[1;32m      1\u001b[0m \u001b[38;5;66;03m# Print the structure of each stock in the selected_stocks list\u001b[39;00m\n\u001b[1;32m      2\u001b[0m \u001b[38;5;28;01mfor\u001b[39;00m stock \u001b[38;5;129;01min\u001b[39;00m stock_articles:\n\u001b[0;32m----> 3\u001b[0m     \u001b[38;5;28mprint\u001b[39m(\u001b[38;5;124mf\u001b[39m\u001b[38;5;124m\"\u001b[39m\u001b[38;5;124mStock Name: \u001b[39m\u001b[38;5;132;01m{\u001b[39;00m\u001b[43mstock\u001b[49m\u001b[43m[\u001b[49m\u001b[38;5;124;43m'\u001b[39;49m\u001b[38;5;124;43mName\u001b[39;49m\u001b[38;5;124;43m'\u001b[39;49m\u001b[43m]\u001b[49m\u001b[38;5;132;01m}\u001b[39;00m\u001b[38;5;124m\"\u001b[39m)\n\u001b[1;32m      4\u001b[0m     \u001b[38;5;28mprint\u001b[39m(\u001b[38;5;124mf\u001b[39m\u001b[38;5;124m\"\u001b[39m\u001b[38;5;124mStock Symbol: \u001b[39m\u001b[38;5;132;01m{\u001b[39;00mstock[\u001b[38;5;124m'\u001b[39m\u001b[38;5;124mSymbol\u001b[39m\u001b[38;5;124m'\u001b[39m]\u001b[38;5;132;01m}\u001b[39;00m\u001b[38;5;124m\"\u001b[39m)\n\u001b[1;32m      5\u001b[0m     \u001b[38;5;28mprint\u001b[39m(\u001b[38;5;124mf\u001b[39m\u001b[38;5;124m\"\u001b[39m\u001b[38;5;124mMarket Cap: \u001b[39m\u001b[38;5;132;01m{\u001b[39;00mstock\u001b[38;5;241m.\u001b[39mget(\u001b[38;5;124m'\u001b[39m\u001b[38;5;124mMarket Cap\u001b[39m\u001b[38;5;124m'\u001b[39m,\u001b[38;5;250m \u001b[39m\u001b[38;5;124m'\u001b[39m\u001b[38;5;124mNot Available\u001b[39m\u001b[38;5;124m'\u001b[39m)\u001b[38;5;132;01m}\u001b[39;00m\u001b[38;5;124m\"\u001b[39m)\n",
      "\u001b[0;31mKeyError\u001b[0m: 'Name'"
     ]
    }
   ],
   "source": [
    "# Print the structure of each stock in the selected_stocks list\n",
    "for stock in stock_articles:\n",
    "    print(f\"Stock Name: {stock['Name']}\")\n",
    "    print(f\"Stock Symbol: {stock['Symbol']}\")\n",
    "    print(f\"Market Cap: {stock.get('Market Cap', 'Not Available')}\")\n",
    "    # Print articles if they exist in the stock dictionary\n",
    "    if 'articles' in stock:\n",
    "        print(f\"Articles for {stock['Name']} exist\")\n",
    "        # print(stock['articles'])\n",
    "    else:\n",
    "        print(\"No articles available for this stock.\")\n",
    "    print(\"----------\")\n"
   ]
  },
  {
   "cell_type": "code",
   "execution_count": 88,
   "metadata": {},
   "outputs": [
    {
     "name": "stdout",
     "output_type": "stream",
     "text": [
      "Decision for LOW: [TextBlock(text='Based on the latest news articles about Lowe\\'s Companies Inc., my recommendation is:\\n\\n{\"stock_ticker\": \"LOW\", \"trade_decision\": \"buy\"}\\n\\nThe key points that support a buy decision are:\\n\\n1. Lowe\\'s is partnering with high-profile athletes like Lionel Messi and Drake Maye to engage soccer fans and younger consumers. This should help boost brand awareness and sales.\\n\\n2. Analysts view Lowe\\'s as one of the best consumer discretionary dividend stocks to buy now. The company has an attractive valuation and strong growth prospects as the home improvement industry recovers. \\n\\n3. Lowe\\'s is investing in innovative customer engagement strategies and technology to drive long-term growth. This positions the company well to gain market share.\\n\\n4. While interest rates remain high which could pressure housing demand, Lowe\\'s serves both DIY customers and professional contractors which provides some diversification. \\n\\n5. There were no major red flags or negative news stories that would argue against investing in Lowe\\'s at this time based on the articles provided.\\n\\nSo in summary, Lowe\\'s strategic initiatives, reasonable valuation, and favorable analyst opinions make it a compelling buy in the current market environment, despite some macro headwinds. The company seems well-positioned for steady growth.', type='text')]\n",
      "Decision for PDD: [TextBlock(text='Here is my decision in JSON format:\\n\\n{\\n  \"stock_ticker\": \"PDD\",\\n  \"trade_decision\": \"buy\"\\n}\\n\\nBased on the latest news articles about PDD Holdings, I recommend buying the stock. A few key positive points:\\n\\n- PDD is seeing strong growth and profitability, with revenue up over 50% year-over-year and net margins over 24%. The company is benefiting from the continued shift to e-commerce in China.\\n\\n- PDD\\'s Temu e-commerce app is gaining rapid popularity in the U.S., becoming the most downloaded shopping app on Android and iOS. This provides a new growth avenue for PDD outside of China.\\n\\n- Analysts are generally bullish on PDD, with some calling the stock cheap at current levels and recommending it as a long-term buy. \\n\\n- Risks like increased regulation in China seem to be priced in already. The company continues to execute well despite potential headwinds.\\n\\nSo in summary, PDD\\'s strong fundamentals, new growth levers like Temu, and attractive valuation make it a compelling buy in my opinion based on the latest news and sentiment. Of course, investors should always do their own due diligence as well.', type='text')]\n",
      "Decision for MSFT: [TextBlock(text='Based on the latest news articles about Microsoft, here is my recommendation in JSON format:\\n\\n{\\n  \"stock_ticker\": \"MSFT\",\\n  \"trade_decision\": \"buy\"\\n}\\n\\nThe key points supporting a buy recommendation are:\\n\\n1. Microsoft reported better than expected Q3 earnings, driven by strength in its cloud business. Cloud growth is a positive long-term trend for Microsoft.\\n\\n2. The company is seen as effectively monetizing AI technologies right now, which could drive further growth. \\n\\n3. Analysts remain bullish on Microsoft following the strong earnings report. Price targets imply further upside.\\n\\n4. Microsoft\\'s market cap has room to expand further if it continues executing well in high growth areas like cloud and AI.\\n\\n5. While the stock is up on the earnings news, the positive fundamentals and long-term positioning in strategic growth markets support more gains ahead.\\n\\nSo in summary, Microsoft\\'s strong quarterly results, leadership in key tech trends like cloud and AI, and analyst optimism make it a compelling buy at current levels for continued upside. The news flow supports a positive outlook for the stock.', type='text')]\n",
      "Decision for UPS: [TextBlock(text='Here is my decision in JSON format:\\n\\n{\\n  \"stock_ticker\": \"UPS\",\\n  \"trade_decision\": \"buy\"\\n}\\n\\nThe recent news articles on UPS paint a cautiously optimistic picture:\\n\\n- UPS beat Q1 2024 earnings estimates, though revenue came in slightly below expectations. The company reaffirmed its full-year 2024 guidance.\\n\\n- UPS expects its new U.S. Postal Service contract to be profitable from year 1, in contrast to the struggles FedEx had with this business. This could provide a boost.\\n\\n- Delivery volumes declined in Q1, but UPS is focused on improving operating efficiency and targeting growth areas like small and medium-sized businesses. \\n\\n- The CEO\\'s compensation may cool off for now after recent increases, a potential positive for shareholders.\\n\\nWhile UPS faces some near-term headwinds from softer delivery demand, the company appears to be executing well on its strategy. The new USPS contract and focus on SMB customers provide avenues for growth. With the stock down year-to-date and trading at a discount to the S&P 500, UPS looks attractively valued for long-term investors. Barring a severe economic downturn, the risk-reward seems favorable at current levels.', type='text')]\n",
      "Decision for AZN: [TextBlock(text='Here is my analysis in the requested JSON format:\\n\\n{\\n  \"stock_ticker\": \"AZN\",\\n  \"trade_decision\": \"buy\"\\n}\\n\\nBased on the recent news articles, I recommend buying AstraZeneca (AZN) stock. The key reasons are:\\n\\n1. AstraZeneca reported very strong Q1 2024 earnings results, with revenue and profits beating analyst estimates. Sales jumped 17% year-over-year to $12.68 billion.\\n\\n2. The company\\'s core cancer drug business is performing exceptionally well, with oncology sales rising 26% to over $5 billion in Q1. Blockbuster drugs like Tagrisso and Enhertu are driving significant growth. \\n\\n3. AstraZeneca reiterated its full-year 2024 guidance for low double-digit to low-teens percentage growth in both revenue and core earnings per share. This shows management\\'s confidence in the business outlook.\\n\\n4. The stock price reacted very positively to the Q1 results, rising over 5% and approaching a potential breakout to new highs. Technical analysis suggests the stock could have more upside.\\n\\n5. While there are some geopolitical supply chain risks to monitor, the CEO stated they have built a very resilient supply chain across different regions.\\n\\nOverall, the fundamental business momentum looks very strong for AstraZeneca, especially in its core oncology franchise. With the stock breaking out on the excellent Q1 results, I believe AZN is a compelling buy at current levels for continued outperformance.', type='text')]\n",
      "Decision for GE: [TextBlock(text='Here is my analysis in the requested JSON format:\\n\\n{\\n  \"stock_ticker\": \"GE\",\\n  \"trade_decision\": \"buy\"\\n}\\n\\nBased on the recent news articles, GE Aerospace appears to be performing well and has a positive outlook:\\n\\n- GE Aerospace reported strong Q1 earnings that beat estimates, driven by solid sales of jet engine parts and services. The company raised its full-year 2024 profit forecast.\\n\\n- Multiple analysts raised their price targets on GE stock following the impressive Q1 results. Price targets are now in the $165-195 range.\\n\\n- GE Aerospace is benefiting from the recovery in commercial aviation as air travel demand rebounds. Boeing\\'s production issues are also providing a tailwind for GE\\'s engine business.\\n\\n- The company completed its spinoff from GE, allowing it to focus solely on the high-growth aerospace sector. This is seen as a positive catalyst.\\n\\nWhile there are some supply chain challenges, the overall sentiment around GE Aerospace is very bullish based on its market position, growth prospects, and strong financials. The stock has already risen significantly year-to-date but seems to have more upside ahead.\\n\\nTherefore, I recommend buying GE Aerospace stock at current levels. The company\\'s fundamentals and outlook support a favorable risk/reward profile for the shares.', type='text')]\n",
      "Decision for ABBV: [TextBlock(text='Based on the Q1 2024 earnings report, my recommendation is:\\n\\n{\\n  \"stock_ticker\": \"ABBV\",\\n  \"trade_decision\": \"buy\"\\n}\\n\\nKey points:\\n- AbbVie beat earnings and revenue estimates for Q1 2024. Adjusted EPS of $2.31 beat expectations.\\n- The company raised its full-year 2024 adjusted EPS guidance range to $11.13 - $11.33, up from prior guidance of $10.97 - $11.17. This is a positive sign.\\n- While Humira sales declined significantly due to biosimilar competition as expected, AbbVie\\'s other immunology drugs Skyrizi and Rinvoq showed very strong growth of 48% and 62% respectively. This helps offset the Humira decline.\\n- The Aesthetics portfolio saw a small decline, but the Neuroscience portfolio grew robustly at 16%. \\n- AbbVie completed its acquisition of ImmunoGen, adding a new cancer drug Elahere to its oncology lineup which provides additional growth potential.\\n- Overall, the Q1 results were strong and beat expectations. The raised guidance and growth in key products ex-Humira are encouraging signs that AbbVie can successfully manage the Humira patent cliff. This supports a bullish outlook and buying the stock.', type='text')]\n",
      "Decision for MCD: [TextBlock(text='Here is my analysis in JSON format:\\n\\n{\\n  \"stock_ticker\": \"MCD\",\\n  \"trade_decision\": \"buy\"\\n}\\n\\nThe recent news articles on McDonald\\'s Corporation (MCD) paint a generally positive outlook ahead of the company\\'s Q1 earnings report:\\n\\n- Analysts expect solid results driven by digital adoption, menu innovation, and unit expansion. The top and bottom lines are projected to show growth.\\n\\n- McDonald\\'s has been making investments in technology, delivery, drive-thru, and its loyalty program to boost sales and profitability. These initiatives seem to be paying off.\\n\\n- The company\\'s global scale, strong brand, and franchise model provide competitive advantages and resilience even in a challenging macro environment. \\n\\n- Some potential risks to monitor include food and labor cost inflation pressuring margins, and weakening consumer spending impacting sales if a recession hits.\\n\\nHowever, the overall sentiment based on analyst commentary and company-specific factors is bullish. McDonald\\'s is seen as a relatively defensive consumer stock that can outperform in various economic climates.\\n\\nTherefore, weighing the latest news flow and fundamental outlook, I believe McDonald\\'s stock is a buy heading into the Q1 earnings report. The company appears well-positioned to deliver solid results and navigate near-term headwinds.', type='text')]\n",
      "Decision for NEE: [TextBlock(text='Here is my analysis in JSON format:\\n\\n{\\n  \"stock_ticker\": \"NEE\",\\n  \"trade_decision\": \"buy\"\\n}\\n\\nBased on the latest news articles provided, NextEra Energy appears to be in a strong position. There were no negative articles that raised concerns about the company\\'s outlook or financials. As a large utility company focused on renewable energy, NextEra is well-positioned to benefit from the long-term shift towards clean energy. Absent any major red flags in the recent news, I would recommend buying NextEra Energy stock at this time. The company\\'s focus on renewables provides a positive long-term growth story.', type='text')]\n",
      "Decision for META: [TextBlock(text='Based on the latest news articles provided, here is my recommendation in JSON format:\\n\\n{\\n  \"stock_ticker\": \"META\",\\n  \"trade_decision\": \"buy\"\\n}\\n\\nThe key points that support a \"buy\" decision for Meta (META) stock are:\\n\\n1. Meta\\'s Q1 earnings beat expectations, even though the stock sank 10% after hours. The earnings beat shows the underlying business remains strong.\\n\\n2. Meta is making significant investments in AI which could pay off in the long run as AI becomes increasingly important. The company is testing its AI future.\\n\\n3. While Meta\\'s \"growth-at-all-costs\" strategy is being tested by its heavy AI spending, the company still has a huge user base and strong core advertising business. \\n\\n4. Analysts are reaffirming Buy ratings on Meta stock amid the company\\'s strong performance and strategic AI investments.\\n\\n5. Meta is part of the \"Magnificent 7\" mega-cap tech stocks that have driven the market higher. While momentum in this group may be waning, Meta still has long-term upside potential.\\n\\nSo in summary, while there are some near-term concerns around Meta\\'s profitability as it ramps up AI investments, the long-term story remains intact. The stock looks attractive for investors willing to hold through some potential volatility. The latest earnings and AI initiatives provide reasons to be bullish.', type='text')]\n",
      "Decision for PGR: [TextBlock(text='Based on the latest news articles about Progressive Corporation, here is my recommendation in JSON format:\\n\\n{\\n  \"stock_ticker\": \"PGR\",\\n  \"trade_decision\": \"buy\"\\n}\\n\\nThe key points that support a \"buy\" recommendation are:\\n\\n1. Progressive reported strong Q1 2024 earnings that beat expectations, with revenue up 21% year-over-year. Net income surged over 400%.\\n\\n2. The company is seeing premium growth, rate increases, and an improved combined ratio, signaling strong underwriting performance. \\n\\n3. Progressive\\'s low beta of 0.34 makes it an attractive defensive stock pick amid market volatility and economic uncertainty. \\n\\n4. Several analysts reiterated buy/overweight ratings on PGR stock following the Q1 results, though price targets were trimmed slightly.\\n\\n5. The insurance sector overall is rallying as a way to play inflation, which is boosting pricing power for insurers like Progressive.\\n\\nWhile there are always risks, Progressive\\'s solid fundamentals, market share gains, and relatively low valuation compared to growth potential make the stock look like a compelling \"buy\" at current levels based on the latest news and analyst commentary. The company appears well-positioned to navigate the current macro environment.', type='text')]\n",
      "Decision for GOOG: [TextBlock(text='Based on the latest news articles about Alphabet, here is my recommendation in JSON format:\\n\\n{\\n  \"stock_ticker\": \"GOOG\",\\n  \"trade_decision\": \"buy\"\\n}\\n\\nThe key positive factors influencing this buy recommendation are:\\n\\n1. Alphabet reported strong Q1 earnings that beat expectations, driven by growth in its cloud business and investments in AI. This has boosted investor confidence.\\n\\n2. Alphabet announced its first-ever quarterly dividend and a $70 billion share buyback program, which should be supportive of the stock price.\\n\\n3. Alphabet\\'s stock price surged over 10% on the earnings news, closing above a $2 trillion market cap for the first time. The stock is hitting new 52-week highs.\\n\\n4. Major tech companies like Microsoft are ramping up spending on AI technologies, which bodes well for Alphabet given its leading position in AI with products like Google Cloud.\\n\\n5. While there are some regulatory risks around Alphabet\\'s ad business, the company\\'s diversification into cloud and AI helps mitigate this.\\n\\nSo in summary, Alphabet\\'s strong fundamentals, positive earnings momentum, shareholder-friendly capital return plans, and leverage to AI growth make the stock look attractive at current levels. The bullish price action also confirms the positive sentiment. Therefore, I believe buying GOOG stock is a sound decision based on the latest developments.', type='text')]\n",
      "Decision for ETN: [TextBlock(text='Here is my recommendation in JSON format:\\n\\n{\\n  \"stock_ticker\": \"ETN\",\\n  \"trade_decision\": \"buy\"\\n}\\n\\nBased on the latest news articles, Eaton Corporation appears to be a strong buy:\\n\\n- Eaton was awarded $26.6M in federal tax credits to support U.S. manufacturing and workforce training programs advancing clean energy projects. This shows the company is well-positioned to benefit from the transition to clean energy.\\n\\n- Eaton declared a quarterly dividend and has paid dividends every year since 1923, demonstrating a long history of returning cash to shareholders. \\n\\n- Eaton earned its first gold medal rating from EcoVadis for sustainability performance, highlighting its ESG leadership.\\n\\n- The company completed an innovative clean energy microgrid project in Puerto Rico to power its manufacturing and support the regional grid. This demonstrates Eaton\\'s capabilities in providing sustainable energy solutions.\\n\\n- Eaton has delivered strong financial results, with record Q4 2023 earnings and continued backlog growth. Management also issued positive guidance for the 2024 outlook.\\n\\nThe combination of Eaton\\'s positioning in clean energy and electrification markets, commitment to sustainability, shareholder returns, and strong financial performance make it an attractive stock to buy based on the latest news flow. The company appears well-positioned for long-term growth.', type='text')]\n",
      "Decision for PEP: [TextBlock(text='Here is my analysis in JSON format:\\n\\n{\\n  \"stock_ticker\": \"PEP\",\\n  \"trade_decision\": \"buy\"\\n}\\n\\nBased on the recent news articles about PepsiCo, I would recommend buying the stock. A few key positive points:\\n\\n- PepsiCo reported better than expected earnings and revenue in Q1 2024, despite some weakness in the domestic market. The company\\'s international business showed strong momentum.\\n\\n- Analysts are raising price targets on the stock and maintaining Buy ratings, seeing more upside potential. Morgan Stanley believes the stock\\'s compressed valuation is likely to rebound.\\n\\n- PepsiCo continues to return cash to shareholders through a healthy dividend yield of nearly 3%. The stock is considered an attractive option for income-focused investors.\\n\\n- While the stock has underperformed the S&P 500 over the past year, it has outperformed over a 3-year period, demonstrating long-term strength. \\n\\n- PepsiCo\\'s diverse snacks and beverages portfolio provides defensive characteristics that can help the stock hold up relatively well in a volatile market environment.\\n\\nOverall, PepsiCo appears fundamentally sound with a positive outlook from analysts. The recent pullback could provide an attractive entry point for a quality blue-chip dividend stock. Therefore, I believe buying PepsiCo stock is a reasonable move at current levels.', type='text')]\n",
      "Decision for HON: [TextBlock(text='Based on the latest news articles about Honeywell International Inc. (HON), here is my recommendation in JSON format:\\n\\n{\\n  \"stock_ticker\": \"HON\",\\n  \"trade_decision\": \"buy\"\\n}\\n\\nThe key points that support a \"buy\" recommendation are:\\n\\n1. Honeywell delivered strong Q1 2024 results, beating earnings guidance and analyst estimates. Revenues increased 3% year-over-year.\\n\\n2. The Aerospace segment showed particular strength with sales rising. Honeywell\\'s technology is also helping produce sustainable aviation fuel more efficiently. \\n\\n3. While the stock is down about 7% year-to-date, analysts still have a favorable outlook. Several firms reiterated Buy/Outperform ratings after the earnings report.\\n\\n4. Honeywell\\'s M&A strategy is yielding positive results according to management. Strategic acquisitions can drive future growth.\\n\\n5. The company has a strong balance sheet, generates solid cash flows, and pays an attractive 2.2% dividend yield. \\n\\nWhile there are some near-term headwinds like weakness in warehouse automation, overall Honeywell appears well-positioned as a diversified industrial leader. The Q1 earnings beat and positive analyst commentary suggest the stock offers a favorable risk/reward at current levels for long-term investors. Therefore, I believe accumulating shares of HON on pullbacks is advisable.', type='text')]\n",
      "Decision for HSBC: [TextBlock(text='Based on the latest news articles provided about HSBC Holdings plc, my recommendation is:\\n\\n{\\n  \"stock_ticker\": \"HSBC\",\\n  \"trade_decision\": \"buy\"\\n}\\n\\nThe key positive points from the articles are:\\n\\n1. HSBC recently held a successful inaugural Global Investment Summit that brought together over 3,000 delegates to discuss major economic trends and opportunities. This shows HSBC is well-positioned as a thought leader in global finance.\\n\\n2. HSBC opened a new flagship wealth center in New York City to accelerate its wealth management strategy in the U.S. This demonstrates continued investment and growth in a key market. \\n\\n3. HSBC\\'s wealthy clients in China and Hong Kong remain eager to invest in the U.S. despite economic headwinds, fueled by China\\'s still strong relative growth. HSBC is capitalizing on this cross-border wealth management opportunity.\\n\\n4. The bank continues to make strategic senior hires in the U.S., such as a new CFO for the Americas, indicating an ongoing commitment to the market.\\n\\n5. HSBC delivered record profits in 2023 and its highest dividend since 2008, reflecting strong underlying performance.\\n\\nWhile there are some challenges mentioned like job cuts in Asia investment banking, overall the news paints a picture of a global bank investing for growth, especially in U.S. wealth management, and performing well financially. The stock also appears to be outperforming benchmarks over the past few years.\\n\\nTherefore, based on the positive developments and momentum, I believe HSBC stock is a buy at current levels for investors bullish on the long-term prospects of global banking giants. The caveat is that banks can be sensitive to macroeconomic and geopolitical risks, so appropriate diversification and risk management is advised.', type='text')]\n",
      "Decision for TBC: [TextBlock(text='Here is my trade recommendation for AT&T Inc. 5.625% Global Notes due 2067 in JSON format:\\n\\n{\\n  \"stock_ticker\": \"TBC\",\\n  \"trade_decision\": \"buy\"\\n}\\n\\nBased on the latest news articles, AT&T appears to be performing solidly with a promising financial strategy going forward. Key points:\\n\\n- AT&T had a solid Q1 performance\\n- Analysts are reaffirming Buy ratings on the stock\\n- AT&T\\'s dividend yield remains attractive at nearly 6% and appears safe for now\\n- The company is making strategic moves to improve its financial position\\n\\nWhile AT&T does face challenges in the competitive telecom space, the overall sentiment from analysts is bullish. The high dividend yield and reasonable valuation make the stock attractive for income-focused investors. Therefore, I believe buying AT&T\\'s bonds maturing in 2067 could be a good long-term investment at current levels. The company\\'s improving fundamentals and analyst confidence indicate the bonds carry a manageable level of risk.', type='text')]\n",
      "Decision for ISRG: [TextBlock(text='Here is my analysis in JSON format:\\n\\n{\\n  \"stock_ticker\": \"ISRG\",\\n  \"trade_decision\": \"buy\"\\n}\\n\\nBased on the recent news articles, I recommend buying Intuitive Surgical (ISRG) stock. A few key positive points:\\n\\n- Intuitive recently announced FDA clearance of its fifth-generation robotic surgery system, the da Vinci 5. This should help the company maintain its market leadership position.\\n\\n- Surgeon feedback on the da Vinci 5 advancements has been very positive according to analysts, who reiterated their Buy ratings on the stock. \\n\\n- The company reported solid Q1 2024 earnings results, continuing the positive momentum from a strong 2023.\\n\\n- Intuitive appointed a new board member, Sreelakshmi Kolli, in late 2023, likely bringing fresh perspectives.\\n\\n- The company continues to expand indications for its robotic systems, recently getting FDA clearance for the da Vinci SP in simple prostatectomies.\\n\\nWhile competition in the robotic surgery space is increasing, Intuitive remains the clear market leader with a strong pipeline of innovation. The recent news flow indicates the company is well-positioned for continued growth, making the stock a buy at current levels in my opinion.', type='text')]\n",
      "Decision for FMX: [TextBlock(text='Here is my analysis and recommendation for Fomento Economico Mexicano S.A.B. de C.V. (FMX) based on the latest news:\\n\\n{\\n  \"stock_ticker\": \"FMX\",\\n  \"trade_decision\": \"buy\"\\n}\\n\\nThe key points from the recent articles are:\\n\\n1. FMX reported Q1 2024 earnings that beat EPS estimates ($1.40 vs $1.00 expected) but slightly missed on revenue ($10.5B vs $10.71B expected). Overall a solid quarter.\\n\\n2. The company continues to make strategic growth investments in its retail, beverage, and digital businesses which are driving revenue growth. \\n\\n3. Analysts are positive on FMX\\'s growth initiatives and believe the stock has more upside potential. One article highlighted FMX as a top momentum stock pick.\\n\\n4. There were no major negative developments or concerning news in the recent articles. The earnings miss on revenue was minor.\\n\\nGiven the strong Q1 earnings beat on profits, continued investments in growth areas, and positive analyst sentiment, I believe FMX stock remains attractive at current levels. The minor revenue miss does not change the overall bullish outlook.\\n\\nTherefore, my recommendation is to BUY FMX stock based on the latest news and fundamental outlook for the company. The stock has good momentum and upside potential as FMX executes on its growth strategies.', type='text')]\n",
      "Decision for UNP: [TextBlock(text='Here is my analysis in JSON format:\\n\\n{\\n  \"stock_ticker\": \"UNP\",\\n  \"trade_decision\": \"buy\"\\n}\\n\\nBased on the latest news articles about Union Pacific Corporation, I recommend buying the stock. The key points that support this decision are:\\n\\n1. Union Pacific beat earnings and revenue estimates in Q1 2024, showing resilience despite a challenging freight environment. The company was able to improve efficiency and pricing to offset lower volumes.\\n\\n2. The company is resuming share buybacks in Q2, a sign of confidence in its financial position and outlook. \\n\\n3. Union Pacific is seeing improvement across its business under CEO Jim Vena\\'s leadership. Analysts are maintaining Buy ratings on the stock based on the strong Q1 performance and positive outlook.\\n\\n4. While freight demand remains soft, Union Pacific is growing more efficient and pricing its services above inflation. This should allow it to maintain profitability even in a tough macro environment.\\n\\n5. The stock has outperformed the S&P 500 over the past 1 and 3 years, delivering solid returns for shareholders.\\n\\nOverall, Union Pacific appears well-positioned to navigate near-term headwinds and deliver long-term growth for investors. The Q1 results and management\\'s optimistic tone bode well for the stock. As a result, I believe buying UNP is the right move at this juncture.', type='text')]\n",
      "Decision for NKE: [TextBlock(text='Based on the latest news articles about Nike, here is my recommendation in JSON format:\\n\\n{\\n  \"stock_ticker\": \"NKE\",\\n  \"trade_decision\": \"buy\"\\n}\\n\\nThe key points from the articles that support a \"buy\" recommendation are:\\n\\n1. Nike is planning its \"biggest ever\" marketing spend around the upcoming Olympics, which could help boost sales and market share. The company is pinning its hopes on the Olympics to regain lost ground.\\n\\n2. Nike recently announced a major endorsement deal with college basketball star Caitlin Clark worth a reported $28 million over 8 years. Landing a marketable rising star should help the Nike brand.\\n\\n3. While Nike is laying off some employees at its Oregon headquarters, the overall tone from management seems to be ramping up marketing and focusing on innovation and new products to drive growth, rather than major cost-cutting and restructuring. \\n\\n4. The articles don\\'t mention any major negative news or headwinds for Nike beyond the layoffs, which seem limited in scope.\\n\\nSo in summary, Nike\\'s big upcoming marketing push around the Olympics, signing of Caitlin Clark, and focus on new products suggests management sees opportunity to accelerate growth, making the stock look attractive for a \"buy\" at current levels. The news flow seems mostly positive despite the layoff announcement.', type='text')]\n",
      "Decision for BRK/A: [TextBlock(text='Here is my recommendation in JSON format:\\n\\n{\\n  \"stock_ticker\": \"BRK.A\",\\n  \"trade_decision\": \"buy\"\\n}\\n\\nBased on the latest news articles about Berkshire Hathaway, I believe buying the stock is a good decision right now. A few key points:\\n\\n- Several articles highlight that Berkshire Hathaway stock is built to last and a good long-term investment, even with questions around succession after Warren Buffett. The company\\'s fundamentals remain strong.\\n\\n- Berkshire Hathaway has settled a major $250 million antitrust lawsuit related to its real estate brokerage business. Resolving this overhang is a positive. \\n\\n- The stock has underperformed the S&P 500 over the past year but analysts see upside potential of around 18% from current levels. \\n\\n- Berkshire\\'s massive portfolio is concentrated in just 4 major stocks, but these are high-quality blue chip names.\\n\\n- While expensive on an absolute basis, Berkshire can be a lower risk investment in an uncertain macro environment.\\n\\nSo in summary, the news flow is generally positive, the company\\'s long-term prospects remain bright, and the stock has some catch-up potential after lagging recently. This makes Berkshire Hathaway a buy in my opinion.', type='text')]\n",
      "Decision for JPM: [TextBlock(text='Here is my analysis of whether to buy or sell JPMorgan Chase (JPM) stock based on the latest news:\\n\\n{\"stock_ticker\": \"JPM\", \"trade_decision\": \"buy\"}\\n\\nThe key positive points from the recent news on JPM:\\n\\n- JPMorgan Chase continues to post solid financial results and has a positive outlook. The company recently had its \"Strong Buy\" rating affirmed by analysts.\\n\\n- The bank is expanding its presence in key markets like Washington D.C. and opening innovative new branches to serve underserved communities. This should help drive growth.\\n\\n- JPM is investing heavily in technology and digital initiatives like its J.P. Morgan Wealth Plan. This positions the company well for the future of banking.\\n\\n- The company continues to be a leader in M&A advisory, ranking as a top firm in the Asia-Pacific region in Q1.\\n\\n- JPM has a strong capital return program, with a 2.38% dividend yield currently. \\n\\nThe main risks appear to be the ongoing sanctions battle with Russia that led to some JPM funds being seized, as well as the potential for an economic downturn that CEO Jamie Dimon sees as likely. However, the company\\'s strong fundamentals, market position, and growth initiatives seem to outweigh these risks for now.\\n\\nGiven JPMorgan Chase\\'s solid performance, growth prospects, and capital returns, I believe the stock remains a buy at current levels for long-term investors. The positive news flow and analyst sentiment support an optimistic outlook.', type='text')]\n",
      "Decision for CSCO: [TextBlock(text='Based on the latest news articles about Cisco Systems, here is my recommendation in JSON format:\\n\\n{\\n  \"stock_ticker\": \"CSCO\",\\n  \"trade_decision\": \"buy\"\\n}\\n\\nThe key points that support a \"buy\" recommendation for Cisco stock are:\\n\\n1. Cisco is partnering with Morgan Solar on an innovative project to power collaboration spaces with clean solar energy, showing the company\\'s commitment to sustainability which could attract ESG investors.\\n\\n2. Cisco completed the acquisition of Isovalent, expanding its cloud-native networking and security offerings. This strategic acquisition positions Cisco to capitalize on growth in cloud computing.\\n\\n3. While Cisco was downgraded by JP Morgan, it was simultaneously added to Bank of America\\'s \"US 1 list\" of top stock picks. This shows there are still bullish analysts who see upside potential.\\n\\n4. Cisco has a strong dividend yield over 3% which makes it attractive for income-focused investors. The company is a dividend aristocrat with a long history of dividend growth.\\n\\n5. There were no major negative headlines or developments that would justify a \"sell\" rating at this time based on the news provided.\\n\\nSo in summary, Cisco\\'s strategic moves in solar, cloud security, and its dividend strength make it a stock worth buying for certain investors, despite some mixed analyst opinions. The news flow is more positive than negative overall.', type='text')]\n",
      "Decision for NOW: [TextBlock(text='Based on the latest news articles provided, here is my recommendation in JSON format:\\n\\n{\\n  \"stock_ticker\": \"NOW\",\\n  \"trade_decision\": \"buy\"\\n}\\n\\nThe key points that support a \"buy\" decision for ServiceNow (NOW) are:\\n\\n1. The articles do not mention any significantly negative news or developments related to ServiceNow specifically. The absence of bad news is a positive.\\n\\n2. Several of the articles discuss strength in cloud and AI spending by major tech companies like Microsoft, Alphabet, and Meta. As a cloud-based enterprise software company, ServiceNow is well-positioned to benefit from robust enterprise IT and digital transformation spending. \\n\\n3. A number of the articles mention semiconductor companies like Nvidia seeing strong demand related to AI, indicating AI is a major growth driver. ServiceNow has been investing in AI capabilities for its platform, which could help drive demand.\\n\\n4. The broad market indexes like the S&P 500 and Nasdaq seem to be performing well based on the articles, with the S&P having its best week since November. A rising tide in the overall market and tech sector should provide a tailwind for ServiceNow shares.\\n\\nSo in summary, the combination of a lack of company-specific bad news, positive industry spending trends around cloud and AI, and overall market strength make ServiceNow look like a reasonable buy at current levels based on this latest batch of news. Of course, further research into the company\\'s fundamentals and valuation would be prudent. But the news flow appears favorable for NOW stock.', type='text')]\n",
      "Decision for COP: [TextBlock(text='Based on the latest news articles provided, here is my recommendation in JSON format:\\n\\n{\\n  \"stock_ticker\": \"COP\",\\n  \"trade_decision\": \"buy\"\\n}\\n\\nThe key points that lead me to a \"buy\" recommendation for ConocoPhillips (COP) are:\\n\\n1. COP has outperformed the S&P 500 over the past 1 year and 3 years, indicating strong relative performance. \\n\\n2. Several analysts have recently raised their price targets on COP, suggesting a bullish outlook. Barclays reiterated a Buy rating, Susquehanna raised their target to $154, and Piper Sandler raised to $157.\\n\\n3. COP is benefiting from new technologies that are helping U.S. shale oil producers rebuild well productivity after years of drilling cutbacks. This should boost COP\\'s production and profits.\\n\\n4. While COP faces some headwinds from lower natural gas prices and refining margins last quarter, the company still has a strong position in the energy sector to capitalize on rising oil demand and prices over the longer term.\\n\\n5. COP offers an attractive 3.2% dividend yield, providing solid income on top of share price appreciation potential.\\n\\nSo in summary, COP\\'s strong fundamentals, bullish analyst sentiment, technological advantages, and income generation make it look like a compelling \"buy\" at current levels for investors bullish on the energy sector. The stock\\'s outperformance also indicates it is a sector leader.', type='text')]\n",
      "Decision for SAP: [TextBlock(text='Here is my analysis in the requested JSON format:\\n\\n{\\n  \"stock_ticker\": \"SAP\",\\n  \"trade_decision\": \"buy\"\\n}\\n\\nThe key points from the latest news articles on SAP SE that support a \"buy\" recommendation:\\n\\n1. SAP reported strong Q1 2024 results, with cloud revenue growing 24% year-over-year. The company also raised its full-year outlook.\\n\\n2. SAP\\'s stock price has increased significantly over the past year (+59%) and the rally looks set to continue based on the positive Q1 results and outlook. \\n\\n3. SAP is unveiling new AI-driven innovations for its supply chain solutions which could drive further growth as companies look to leverage AI to improve efficiency.\\n\\n4. Analysts are raising their price targets on SAP shares following the earnings beat and guidance raise, indicating further upside potential.\\n\\n5. SAP\\'s \"RISE with SAP\" cloud transformation solution is gaining traction with major enterprise customers like Deutsche Telekom choosing to implement it.\\n\\nWhile there are some risks around global macroeconomic weakness and competition in the cloud space, overall the latest news flow and fundamental business momentum appears very positive for SAP. The stock looks well-positioned to continue outperforming the broader market indices going forward. Therefore, I believe buying SAP stock is the right move at present.', type='text')]\n",
      "Decision for TTE: [TextBlock(text='Based on the latest news articles about TotalEnergies SE, my recommendation is to buy the stock. Here are the key reasons:\\n\\n<stock_ticker>TTE</stock_ticker>\\n\\n<trade_decision>buy</trade_decision>\\n\\nThe main positive factors are:\\n\\n1. TotalEnergies reported strong Q1 2024 results, with profits beating expectations. The company also announced a $2 billion share buyback this quarter on the back of the solid earnings.\\n\\n2. TotalEnergies is expanding its natural gas production in the U.S. and acquiring additional interests in projects in Malaysia and Algeria. This shows the company is investing for future growth.\\n\\n3. The company raised its dividend by nearly 7% compared to 2023, a sign of confidence in its outlook and cash flows. The stock offers an attractive 4.28% dividend yield.\\n\\n4. Several analysts have positive views on TotalEnergies. Morgan Stanley sees a \"hot summer\" ahead for the energy sector and named TotalEnergies as one of its top picks. Piper Sandler also recently raised its price target on the stock.\\n\\n5. The company is ranked 1st in employee shareholder ownership in Europe, aligning employees with its transition strategy. This is a positive for corporate governance.\\n\\nWhile oil prices remain volatile, TotalEnergies\\' solid Q1 results, growth investments, attractive dividend, and positive analyst sentiment make the stock look attractive for a buy at current levels. The company seems well-positioned to navigate the energy transition while still delivering shareholder returns.', type='text')]\n",
      "Decision for WFC: [TextBlock(text='Here is my analysis and trade recommendation for Wells Fargo & Company (WFC) in JSON format:\\n\\n{\\n  \"stock_ticker\": \"WFC\",\\n  \"trade_decision\": \"buy\"\\n}\\n\\nKey points:\\n- Wells Fargo reported strong Q1 2024 earnings, beating estimates on both the top and bottom lines. EPS of $1.26 beat by $0.17 and revenue of $20.86B beat by $710M.\\n- The bank benefited from higher noninterest income and lower credit loss provisions in Q1. While consumer and commercial banking segments dipped, investment banking segments rose.\\n- Wells Fargo stock has rallied significantly, up over 22% YTD and over 52% in the past year, outperforming the S&P 500. The stock recently hit a 52-week high.\\n- Some analysts have downgraded WFC on valuation concerns after the big rally. However, others like Argus have raised their price targets, seeing more upside to $66.\\n- Tailwinds for WFC include the potential for higher interest rates to boost net interest income, share buybacks, and the lifting of regulatory consent orders that have restricted growth.\\n\\nOverall, Wells Fargo\\'s strong Q1 results and positive momentum make the stock attractive at current levels, even after the big run. The company\\'s turnaround efforts are bearing fruit and the macro environment of higher rates should provide a tailwind going forward. Therefore, I recommend buying WFC stock for further upside in the coming quarters.', type='text')]\n"
     ]
    }
   ],
   "source": [
    "import anthropic\n",
    "\n",
    "# Initialize the Anthropic client with the provided API key\n",
    "client = anthropic.Anthropic(api_key=\"\")\n",
    "\n",
    "\n",
    "# Iterate through each stock in the selected_stocks list\n",
    "for stock in stock_articles:\n",
    "    stock_ticker = stock['stock_symbol']\n",
    "    company_name = stock['stock_name']\n",
    "    articles = stock['articles_joined']\n",
    "    \n",
    "    # Prepare the message content for the API call\n",
    "    message_content = f\"Make a decision for the company <company>{company_name}</company> with these articles <articles>{articles}</articles>\"\n",
    "    \n",
    "    # Create a message using the Claude model to decide on buying or selling the stock\n",
    "    message = client.messages.create(\n",
    "        model=\"claude-3-opus-20240229\",\n",
    "        max_tokens=1000,\n",
    "        temperature=0,\n",
    "        system=\"You are a Trading bot. Your job is to make a simple yes or no call on whether I should buy or not buy a stock. Your decision is based on the top few articles on a particular topic, which you will be given in the You're going to be deciding on a  <company></company> with the lastest news on said company in the <articles></articles> section below.\\n\\nUse JSON format with the keys stock_ticker:  and trade_decision - either buy or sell\\n\",\n",
    "        messages=[\n",
    "            {\n",
    "                \"role\": \"user\",\n",
    "                \"content\": [\n",
    "                    {\n",
    "                        \"type\": \"text\",\n",
    "                        \"text\": message_content\n",
    "                    }\n",
    "                ]\n",
    "            }\n",
    "        ]\n",
    "    )\n",
    "    \n",
    "    # Print the decision from the API\n",
    "    print(f\"Decision for {stock_ticker}: {message.content}\")\n",
    "\n",
    "\n",
    "\n"
   ]
  },
  {
   "cell_type": "code",
   "execution_count": 54,
   "metadata": {},
   "outputs": [],
   "source": [
    "import cohere \n",
    "co = cohere.Client('') # This is your trial API key\n",
    "response = co.chat( \n",
    "  model='command-r-plus',\n",
    "  message=f\"Find an example of a difference in opinion between the articles listed in the following web pages: ${concatenated_markdown}\",\n",
    "  temperature=0.3,\n",
    "  chat_history=[],\n",
    "  prompt_truncation='AUTO',\n",
    "  \n",
    "  # connectors=[{\"id\":\"web-search\"}]\n",
    ") \n"
   ]
  },
  {
   "cell_type": "code",
   "execution_count": 55,
   "metadata": {},
   "outputs": [
    {
     "name": "stdout",
     "output_type": "stream",
     "text": [
      "The article \"AI—The good, the bad, and the scary\" presents a range of opinions\n",
      "from experts in the field of AI, including engineers, computer scientists, and\n",
      "professors. One of the experts, Walid Saad, highlights the potential\n",
      "environmental impact of AI as a concern, stating that data centers that support\n",
      "AI consume a large amount of electricity and water for cooling, leading to a\n",
      "significant carbon footprint. On the other hand, the article \"Advantages and\n",
      "Disadvantages of Artificial Intelligence [AI]\" does not mention any\n",
      "environmental concerns related to AI. This difference in opinion highlights the\n",
      "diverse perspectives on the impact of AI, with some experts emphasizing the\n",
      "potential negative consequences on the environment, while others focus on other\n",
      "aspects of AI's impact.\n"
     ]
    }
   ],
   "source": [
    "# print(response.text)\n",
    "import textwrap\n",
    "# Print the response from the cohere endpoint with text wrapping for better readability\n",
    "print(\"\\n\".join(textwrap.wrap(response.text, width=80)))"
   ]
  }
 ],
 "metadata": {
  "kernelspec": {
   "display_name": "Python 3",
   "language": "python",
   "name": "python3"
  },
  "language_info": {
   "codemirror_mode": {
    "name": "ipython",
    "version": 3
   },
   "file_extension": ".py",
   "mimetype": "text/x-python",
   "name": "python",
   "nbconvert_exporter": "python",
   "pygments_lexer": "ipython3",
   "version": "3.11.8"
  }
 },
 "nbformat": 4,
 "nbformat_minor": 2
}
